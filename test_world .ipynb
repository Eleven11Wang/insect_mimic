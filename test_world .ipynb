{
 "cells": [
  {
   "cell_type": "code",
   "execution_count": 9,
   "metadata": {},
   "outputs": [
    {
     "data": {
      "application/vdom.v1+json": {
       "attributes": {},
       "tagName": "div"
      },
      "text/html": [
       "\n",
       "                <script>\n",
       "                    if (Jupyter.version.split(\".\")[0] < 5) {\n",
       "                        var pb = document.getElementById(\"41d794bc-48a0-458f-b479-493d89d4442e\");\n",
       "                        var text = document.createTextNode(\n",
       "                            \"HMTL progress bar requires Jupyter Notebook >= \" +\n",
       "                            \"5.0 or Jupyter Lab. Alternatively, you can use \" +\n",
       "                            \"TerminalProgressBar().\");\n",
       "                        pb.parentNode.insertBefore(text, pb);\n",
       "                    }\n",
       "                </script>\n",
       "                <div id=\"41d794bc-48a0-458f-b479-493d89d4442e\" style=\"\n",
       "                    width: 100%;\n",
       "                    border: 1px solid #cfcfcf;\n",
       "                    border-radius: 4px;\n",
       "                    text-align: center;\n",
       "                    position: relative;\">\n",
       "                  <div class=\"pb-text\" style=\"\n",
       "                      position: absolute;\n",
       "                      width: 100%;\">\n",
       "                    0%\n",
       "                  </div>\n",
       "                  <div class=\"pb-fill\" style=\"\n",
       "                      background-color: #bdd2e6;\n",
       "                      width: 0%;\">\n",
       "                    <style type=\"text/css\" scoped=\"scoped\">\n",
       "                        @keyframes pb-fill-anim {\n",
       "                            0% { background-position: 0 0; }\n",
       "                            100% { background-position: 100px 0; }\n",
       "                        }\n",
       "                    </style>\n",
       "                    &nbsp;\n",
       "                  </div>\n",
       "                </div>"
      ],
      "text/plain": [
       "HtmlProgressBar cannot be displayed. Please use the TerminalProgressBar. It can be enabled with `nengo.rc['progress']['progress_bar'] = 'nengo.utils.progress.TerminalProgressBar'`."
      ]
     },
     "metadata": {},
     "output_type": "display_data"
    },
    {
     "data": {
      "application/vdom.v1+json": {
       "attributes": {
        "id": "61ce5725-3e4c-4d29-95f3-31b218d11fbc",
        "style": {
         "border": "1px solid #cfcfcf",
         "borderRadius": "4px",
         "boxSizing": "border-box",
         "position": "relative",
         "textAlign": "center",
         "width": "100%"
        }
       },
       "children": [
        {
         "attributes": {
          "class": "pb-text",
          "style": {
           "position": "absolute",
           "width": "100%"
          }
         },
         "children": [
          "Build finished in 0:00:01."
         ],
         "tagName": "div"
        },
        {
         "attributes": {
          "class": "pb-fill",
          "style": {
           "animation": "none",
           "backgroundColor": "#bdd2e6",
           "backgroundImage": "none",
           "backgroundSize": "100px 100%",
           "width": "100%"
          }
         },
         "children": [
          {
           "attributes": {
            "scoped": "scoped",
            "type": "text/css"
           },
           "children": [
            "\n                        @keyframes pb-fill-anim {\n                            0% { background-position: 0 0; }\n                            100% { background-position: 100px 0; }\n                        }}"
           ],
           "tagName": "style"
          },
          " "
         ],
         "tagName": "div"
        }
       ],
       "tagName": "div"
      },
      "text/html": [
       "<script>\n",
       "              (function () {\n",
       "                  var root = document.getElementById('41d794bc-48a0-458f-b479-493d89d4442e');\n",
       "                  var text = root.getElementsByClassName('pb-text')[0];\n",
       "                  var fill = root.getElementsByClassName('pb-fill')[0];\n",
       "\n",
       "                  text.innerHTML = 'Build finished in 0:00:01.';\n",
       "                  \n",
       "            fill.style.width = '100%';\n",
       "            fill.style.animation = 'pb-fill-anim 2s linear infinite';\n",
       "            fill.style.backgroundSize = '100px 100%';\n",
       "            fill.style.backgroundImage = 'repeating-linear-gradient(' +\n",
       "                '90deg, #bdd2e6, #edf2f8 40%, #bdd2e6 80%, #bdd2e6)';\n",
       "        \n",
       "                  \n",
       "                fill.style.animation = 'none';\n",
       "                fill.style.backgroundImage = 'none';\n",
       "            \n",
       "              })();\n",
       "        </script>"
      ]
     },
     "metadata": {},
     "output_type": "display_data"
    },
    {
     "data": {
      "application/vdom.v1+json": {
       "attributes": {},
       "tagName": "div"
      },
      "text/html": [
       "\n",
       "                <script>\n",
       "                    if (Jupyter.version.split(\".\")[0] < 5) {\n",
       "                        var pb = document.getElementById(\"6ec5174b-8702-4d4c-93be-58a31ae3a30c\");\n",
       "                        var text = document.createTextNode(\n",
       "                            \"HMTL progress bar requires Jupyter Notebook >= \" +\n",
       "                            \"5.0 or Jupyter Lab. Alternatively, you can use \" +\n",
       "                            \"TerminalProgressBar().\");\n",
       "                        pb.parentNode.insertBefore(text, pb);\n",
       "                    }\n",
       "                </script>\n",
       "                <div id=\"6ec5174b-8702-4d4c-93be-58a31ae3a30c\" style=\"\n",
       "                    width: 100%;\n",
       "                    border: 1px solid #cfcfcf;\n",
       "                    border-radius: 4px;\n",
       "                    text-align: center;\n",
       "                    position: relative;\">\n",
       "                  <div class=\"pb-text\" style=\"\n",
       "                      position: absolute;\n",
       "                      width: 100%;\">\n",
       "                    0%\n",
       "                  </div>\n",
       "                  <div class=\"pb-fill\" style=\"\n",
       "                      background-color: #bdd2e6;\n",
       "                      width: 0%;\">\n",
       "                    <style type=\"text/css\" scoped=\"scoped\">\n",
       "                        @keyframes pb-fill-anim {\n",
       "                            0% { background-position: 0 0; }\n",
       "                            100% { background-position: 100px 0; }\n",
       "                        }\n",
       "                    </style>\n",
       "                    &nbsp;\n",
       "                  </div>\n",
       "                </div>"
      ],
      "text/plain": [
       "HtmlProgressBar cannot be displayed. Please use the TerminalProgressBar. It can be enabled with `nengo.rc['progress']['progress_bar'] = 'nengo.utils.progress.TerminalProgressBar'`."
      ]
     },
     "metadata": {},
     "output_type": "display_data"
    },
    {
     "data": {
      "application/vdom.v1+json": {
       "attributes": {
        "id": "72093f1f-6a39-4735-8658-d7c7711af070",
        "style": {
         "border": "1px solid #cfcfcf",
         "borderRadius": "4px",
         "boxSizing": "border-box",
         "position": "relative",
         "textAlign": "center",
         "width": "100%"
        }
       },
       "children": [
        {
         "attributes": {
          "class": "pb-text",
          "style": {
           "position": "absolute",
           "width": "100%"
          }
         },
         "children": [
          "Simulation finished in 0:00:01."
         ],
         "tagName": "div"
        },
        {
         "attributes": {
          "class": "pb-fill",
          "style": {
           "animation": "none",
           "backgroundColor": "#bdd2e6",
           "backgroundImage": "none",
           "transition": "width 0.1s linear",
           "width": "100%"
          }
         },
         "children": [
          {
           "attributes": {
            "scoped": "scoped",
            "type": "text/css"
           },
           "children": [
            "\n                        @keyframes pb-fill-anim {\n                            0% { background-position: 0 0; }\n                            100% { background-position: 100px 0; }\n                        }}"
           ],
           "tagName": "style"
          },
          " "
         ],
         "tagName": "div"
        }
       ],
       "tagName": "div"
      },
      "text/html": [
       "<script>\n",
       "              (function () {\n",
       "                  var root = document.getElementById('6ec5174b-8702-4d4c-93be-58a31ae3a30c');\n",
       "                  var text = root.getElementsByClassName('pb-text')[0];\n",
       "                  var fill = root.getElementsByClassName('pb-fill')[0];\n",
       "\n",
       "                  text.innerHTML = 'Simulation finished in 0:00:01.';\n",
       "                  \n",
       "            if (100.0 > 0.) {\n",
       "                fill.style.transition = 'width 0.1s linear';\n",
       "            } else {\n",
       "                fill.style.transition = 'none';\n",
       "            }\n",
       "\n",
       "            fill.style.width = '100.0%';\n",
       "            fill.style.animation = 'none';\n",
       "            fill.style.backgroundImage = 'none'\n",
       "        \n",
       "                  \n",
       "                fill.style.animation = 'none';\n",
       "                fill.style.backgroundImage = 'none';\n",
       "            \n",
       "              })();\n",
       "        </script>"
      ]
     },
     "metadata": {},
     "output_type": "display_data"
    },
    {
     "data": {
      "image/png": "[encoded data removed]",
      "text/plain": [
       "<Figure size 864x432 with 2 Axes>"
      ]
     },
     "metadata": {
      "needs_background": "light"
     },
     "output_type": "display_data"
    }
   ],
   "source": [
    "import matplotlib.pyplot as plt\n",
    "import numpy as np\n",
    "import nengo\n",
    "from nengo.utils.matplotlib import rasterplot\n",
    "\n",
    "model = nengo.Network(label='Decoding with Two Neurons')\n",
    "\n",
    "with model:\n",
    "    stim = nengo.Node(lambda t: np.sin(10 * t))\n",
    "    ens = nengo.Ensemble(2, dimensions=1,\n",
    "         encoders=[[1], [-1]], intercepts=[-.5, -.5],\n",
    "         max_rates=[100, 100])\n",
    "    nengo.Connection(stim, ens)\n",
    "    stim_p = nengo.Probe(stim)\n",
    "    spikes_p = nengo.Probe(ens.neurons)\n",
    "\n",
    "sim = nengo.Simulator(model)\n",
    "sim.run(.6)\n",
    "\n",
    "#nengo.utils.matplotlib.plot_tuning_curves(ens, sim)\n",
    "\n",
    "t = sim.trange()\n",
    "plt.figure(figsize=(12, 6))\n",
    "plt.plot(t, sim.data[stim_p], 'g')\n",
    "ax = plt.gca()\n",
    "plt.ylabel(\"Output\")\n",
    "plt.xlabel(\"Time\");\n",
    "rasterplot(t, sim.data[spikes_p], ax=ax.twinx(), use_eventplot=True)\n",
    "plt.ylabel(\"Neuron\");\n",
    "\n",
    "plt.show()"
   ]
  },
  {
   "cell_type": "code",
   "execution_count": null,
   "metadata": {},
   "outputs": [],
   "source": [
    "\n",
    "import nengo\n",
    "\n",
    "\n",
    "syn = 0.2 # slow to match paper (0.8s delay on up, 0.4 down)\n",
    "plant = None #seed for model generation\n",
    "\n",
    "def flipflop(x): \n",
    "    if x[1] > 0.2: #if trigger\n",
    "        #return -2*x[0] + 1 #return +/-1\n",
    "        # cheat for dev\n",
    "        if x[0] > 0.5:\n",
    "            return -1\n",
    "        else:\n",
    "            return 1\n",
    "    else:\n",
    "        return 0\n",
    "        \n",
    "def stay(x):#cheating for dev\n",
    "    if x > 0.5:\n",
    "        return 1\n",
    "    else:\n",
    "        return 0\n",
    "\n",
    "def pulse_(x,step):#generate pulse of random amplitude every step s\n",
    "    if x % step > step - 0.1:\n",
    "        #inp = round(np.random.uniform(0.1, 1.0), 2)\n",
    "        #return inp\n",
    "        return 1\n",
    "    else:\n",
    "        return 0\n",
    "        \n",
    "\n",
    "class MothBrainNengo(nengo.Network):\n",
    "    def __init__(self, noise=0, inhib=3, N=100):\n",
    "        super(MothBrainNengo, self).__init__()\n",
    "        with self:\n",
    "            ### Left side ###\n",
    "            self.inputL = nengo.Node(None, size_in=1)\n",
    "            #state[0] holds value, state[1] holds trigger\n",
    "            self.stateL = nengo.Ensemble(N,2, max_rates = nengo.dists.Uniform(80, 200),\n",
    "                        intercepts = nengo.dists.Uniform(0,1), seed = plant)\n",
    "            \n",
    "            ### Right side ### \n",
    "            \n",
    "            self.inputR = nengo.Node(None, size_in=1)\n",
    "            self.stateR = nengo.Ensemble(N,2, max_rates = nengo.dists.Uniform(80, 200),\n",
    "                        intercepts = nengo.dists.Uniform(0,1), seed = plant)\n",
    "            \n",
    "            ### Connections ###\n",
    "            nengo.Connection(self.inputL, self.stateL[1], synapse=syn/10) #Trigger\n",
    "            nengo.Connection(self.stateL[0],self.stateL[0], synapse=syn/2, function=stay) #Memory\n",
    "            nengo.Connection(self.stateL, self.stateL[0], synapse=syn, function=flipflop)#Update Value\n",
    "            \n",
    "            nengo.Connection(self.inputR, self.stateR[1], synapse=syn/10) #Trigger\n",
    "            nengo.Connection(self.stateR[0],self.stateR[0], synapse=syn/2, function=stay) #Memory\n",
    "            nengo.Connection(self.stateR, self.stateR[0], synapse=syn, function=flipflop)#Update Value\n",
    "            \n",
    "            ### Recurrent inhibition ###\n",
    "            self.PBN_r_slow = nengo.Ensemble(N,1, max_rates = nengo.dists.Uniform(20, 100),\n",
    "                        intercepts = nengo.dists.Uniform(-.4,0), seed = plant,\n",
    "                        encoders = [[1]]*N) \n",
    "            self.PBN_l_slow = nengo.Ensemble(N,1, max_rates = nengo.dists.Uniform(20, 100),\n",
    "                        intercepts = nengo.dists.Uniform(-.4,0), seed = plant,\n",
    "                        encoders = [[1]]*N)\n",
    "                        \n",
    "            self.PBN_r_fast = nengo.Ensemble(N,1, max_rates = nengo.dists.Uniform(20, 100),\n",
    "                        intercepts = nengo.dists.Uniform(-.4,0), seed = plant,\n",
    "                        encoders = [[1]]*N)\n",
    "            self.PBN_l_fast = nengo.Ensemble(N,1, max_rates = nengo.dists.Uniform(20, 100),\n",
    "                        intercepts = nengo.dists.Uniform(-.4,0), seed = plant,\n",
    "                        encoders = [[1]]*N)\n",
    "            # Connections\n",
    "            nengo.Connection(self.PBN_l_slow, self.stateR.neurons, transform = [[-0.5]] * N, synapse=0.5)# slow as in Kanzaki & Shibuya 1992\n",
    "            nengo.Connection(self.PBN_r_slow, self.stateL.neurons, transform = [[-0.5]] * N, synapse=0.5)\n",
    "            nengo.Connection(self.inputR, self.PBN_r_slow, synapse=0.1)#was stateL[1]\n",
    "            nengo.Connection(self.inputL, self.PBN_l_slow, synapse=0.1)#was stateR[1]\n",
    "            nengo.Connection(self.stateR[0], self.PBN_l_fast, synapse=0.5)\n",
    "            nengo.Connection(self.stateL[0], self.PBN_r_fast, synapse=0.5)\n",
    "\n",
    "            #nengo.Connection(PBN_r, PBN_r[0], synapse=0.05, function = lambda x: x[0]*x[1])\n",
    "            #nengo.Connection(PBN_l, PBN_l[0], synapse=0.05, function = lambda x: x[0]*x[1])\n",
    "\n",
    "\n",
    "            #GII-A DN - briefly excited neurons used for straight walking *************\n",
    "            self.giia_l = nengo.Ensemble(N, 1, max_rates = nengo.dists.Uniform(20, 40))\n",
    "            self.giia_r = nengo.Ensemble(N, 1, max_rates = nengo.dists.Uniform(20, 40))\n",
    "            nengo.Connection(self.PBN_r_fast, self.giia_l.neurons, synapse=0.05, transform = [[-3]] * N)\n",
    "            nengo.Connection(self.PBN_l_fast, self.giia_r.neurons, synapse=0.05, transform = [[-3]] * N)\n",
    "            nengo.Connection(self.stateR[0], self.giia_l, synapse = 0.05)\n",
    "            nengo.Connection(self.stateL[0], self.giia_r, synapse = 0.05)\n",
    "\n",
    "            \n",
    "            ### Motor ###\n",
    "            self.turn = nengo.Ensemble(N, 1, seed=plant) #L = 1, R = -1\n",
    "            \n",
    "            nengo.Connection(self.stateL[0], self.turn, transform = 1)\n",
    "            nengo.Connection(self.stateR[0], self.turn, transform = -1)\n",
    "            nengo.Connection(self.giia_r, self.turn.neurons, transform = [[-inhib]]*N)\n",
    "            nengo.Connection(self.giia_l, self.turn.neurons, transform = [[-inhib]]*N)\n",
    "\n",
    "        if noise > 0:\n",
    "            for ens in self.all_ensembles:\n",
    "                ens.noise = nengo.processes.WhiteNoise(dist=nengo.dists.Gaussian(mean=0, std=noise))\n"
   ]
  }
 ],
 "metadata": {
  "kernelspec": {
   "display_name": "Python 3",
   "language": "python",
   "name": "python3"
  },
  "language_info": {
   "codemirror_mode": {
    "name": "ipython",
    "version": 3
   },
   "file_extension": ".py",
   "mimetype": "text/x-python",
   "name": "python",
   "nbconvert_exporter": "python",
   "pygments_lexer": "ipython3",
   "version": "3.9.0"
  }
 },
 "nbformat": 4,
 "nbformat_minor": 4
}
